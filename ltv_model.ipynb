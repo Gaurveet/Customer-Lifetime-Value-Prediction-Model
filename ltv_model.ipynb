{
 "cells": [
  {
   "cell_type": "markdown",
   "id": "179be408",
   "metadata": {},
   "source": [
    "# Customer Lifetime Value (LTV) Prediction Project\n",
    "This project predicts customer Lifetime Value (LTV) using historical transaction data.\n",
    "- **Objective**: Forecast LTV to support targeted marketing.\n",
    "- **Tools**: Python, Pandas, XGBoost, Scikit-learn\n",
    "- **Metrics**: MAE, RMSE\n"
   ]
  },
  {
   "cell_type": "code",
   "execution_count": null,
   "id": "2799f8d2",
   "metadata": {},
   "outputs": [],
   "source": [
    "import pandas as pd\n",
    "import numpy as np\n",
    "from datetime import datetime\n",
    "from sklearn.model_selection import train_test_split\n",
    "from sklearn.metrics import mean_absolute_error, mean_squared_error\n",
    "import xgboost as xgb\n",
    "import matplotlib.pyplot as plt\n",
    "import seaborn as sns\n",
    "import joblib"
   ]
  },
  {
   "cell_type": "code",
   "execution_count": null,
   "id": "47302fc9",
   "metadata": {},
   "outputs": [],
   "source": [
    "# Load data\n",
    "customers_df = pd.read_csv(\"data/customer_data.csv\")\n",
    "transactions_df = pd.read_csv(\"data/transactions.csv\")\n",
    "\n",
    "# Convert date columns\n",
    "customers_df['signup_date'] = pd.to_datetime(customers_df['signup_date'])\n",
    "transactions_df['purchase_date'] = pd.to_datetime(transactions_df['purchase_date'])\n",
    "\n",
    "customers_df.head(), transactions_df.head()"
   ]
  },
  {
   "cell_type": "code",
   "execution_count": null,
   "id": "11969ea9",
   "metadata": {},
   "outputs": [],
   "source": [
    "# Reference date\n",
    "reference_date = datetime(2025, 5, 1)\n",
    "\n",
    "# Aggregate features\n",
    "agg_df = transactions_df.groupby(\"customer_id\").agg(\n",
    "    frequency=(\"purchase_date\", \"count\"),\n",
    "    recency=(\"purchase_date\", lambda x: (reference_date - x.max()).days),\n",
    "    total_value=(\"amount\", \"sum\"),\n",
    "    avg_order_value=(\"amount\", \"mean\")\n",
    ").reset_index()\n",
    "\n",
    "# Define LTV\n",
    "agg_df[\"ltv\"] = agg_df[\"total_value\"]\n",
    "agg_df.head()"
   ]
  },
  {
   "cell_type": "code",
   "execution_count": null,
   "id": "7aaf9911",
   "metadata": {},
   "outputs": [],
   "source": [
    "# Split data\n",
    "X = agg_df[[\"frequency\", \"recency\", \"avg_order_value\"]]\n",
    "y = agg_df[\"ltv\"]\n",
    "X_train, X_test, y_train, y_test = train_test_split(X, y, test_size=0.2, random_state=42)\n",
    "\n",
    "# Train model\n",
    "model = xgb.XGBRegressor(objective=\"reg:squarederror\", random_state=42)\n",
    "model.fit(X_train, y_train)\n",
    "\n",
    "# Evaluate\n",
    "y_pred = model.predict(X_test)\n",
    "mae = mean_absolute_error(y_test, y_pred)\n",
    "rmse = np.sqrt(mean_squared_error(y_test, y_pred))\n",
    "print(f\"MAE: {mae:.2f}, RMSE: {rmse:.2f}\")"
   ]
  },
  {
   "cell_type": "code",
   "execution_count": null,
   "id": "9931464a",
   "metadata": {},
   "outputs": [],
   "source": [
    "# Save model\n",
    "joblib.dump(model, \"outputs/model.pkl\")\n",
    "\n",
    "# Predict all\n",
    "agg_df[\"predicted_ltv\"] = model.predict(X)\n",
    "agg_df.to_csv(\"outputs/ltv_predictions.csv\", index=False)"
   ]
  },
  {
   "cell_type": "code",
   "execution_count": null,
   "id": "b4486c73",
   "metadata": {},
   "outputs": [],
   "source": [
    "# Feature importance\n",
    "plt.figure(figsize=(8, 6))\n",
    "xgb.plot_importance(model)\n",
    "plt.title(\"Feature Importance\")\n",
    "plt.tight_layout()\n",
    "plt.savefig(\"outputs/plots/feature_importance.png\")\n",
    "plt.show()"
   ]
  },
  {
   "cell_type": "code",
   "execution_count": null,
   "id": "c67aa18c",
   "metadata": {},
   "outputs": [],
   "source": [
    "# Segment customers into LTV tiers\n",
    "agg_df[\"ltv_segment\"] = pd.qcut(agg_df[\"predicted_ltv\"], q=3, labels=[\"Low\", \"Medium\", \"High\"])\n",
    "agg_df[\"ltv_segment\"].value_counts().plot(kind=\"bar\", title=\"Customer Segments\")\n",
    "plt.show()"
   ]
  }
 ],
 "metadata": {},
 "nbformat": 4,
 "nbformat_minor": 5
}
